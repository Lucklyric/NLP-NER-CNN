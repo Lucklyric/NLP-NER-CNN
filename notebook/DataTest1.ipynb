{
 "cells": [
  {
   "cell_type": "code",
   "execution_count": 59,
   "metadata": {
    "collapsed": true,
    "deletable": true,
    "editable": true
   },
   "outputs": [],
   "source": [
    "import numpy as np"
   ]
  },
  {
   "cell_type": "code",
   "execution_count": 60,
   "metadata": {
    "collapsed": false,
    "deletable": true,
    "editable": true
   },
   "outputs": [
    {
     "name": "stdout",
     "output_type": "stream",
     "text": [
      "2394\n"
     ]
    }
   ],
   "source": [
    "input_sentences = []\n",
    "target_sentences = []\n",
    "with open(\"../data/train\") as f:\n",
    "    in_sentence = []\n",
    "    target_sentence = []\n",
    "    for line in f:\n",
    "        if line != \"\\n\":\n",
    "            in_target = line.split('\\t')\n",
    "            in_sentence.append(in_target[0])\n",
    "            target_sentence.append(in_target[1].strip())\n",
    "        else:\n",
    "            input_sentences.append(in_sentence)\n",
    "            target_sentences.append(target_sentence)\n",
    "            in_sentence = []\n",
    "            target_sentence = []\n",
    "            \n",
    "print len(input_sentences)"
   ]
  },
  {
   "cell_type": "code",
   "execution_count": 61,
   "metadata": {
    "collapsed": false,
    "deletable": true,
    "editable": true
   },
   "outputs": [],
   "source": [
    "data = []\n",
    "for sentence_idx in range(len(input_sentences)):\n",
    "    sentence = input_sentences[sentence_idx]\n",
    "    sentence_data = np.zeros((70+3,500*2),dtype=np.float32)\n",
    "    col_idx = 0\n",
    "    for word_idx in range(len(sentence)):\n",
    "        word = sentence[word_idx]\n",
    "        target_symbol_index = 70 # 0 PASS\n",
    "        if (\"geo-loc\" in target_sentences[sentence_idx][word_idx]) is True:\n",
    "            target_symbol_index = 71\n",
    "        for char in word.upper(): # upper the \n",
    "            char_dec = ord(char)\n",
    "            row_idx = 68 # represent other unkonw symbols\n",
    "            if char_dec >= 33 and char_dec <= 96:\n",
    "                row_idx = char_dec-33\n",
    "            elif char_dec >= 123 and char_dec <= 126:\n",
    "                row_idx = char_dec-33-26\n",
    "            sentence_data[row_idx,col_idx] = 1\n",
    "            sentence_data[target_symbol_index,col_idx] = 1\n",
    "            col_idx += 1\n",
    "        sentence_data[69,col_idx] = 1\n",
    "        sentence_data[72,col_idx] = 1\n",
    "        col_idx += 1\n",
    "    data.append(sentence_data)"
   ]
  },
  {
   "cell_type": "code",
   "execution_count": 63,
   "metadata": {
    "collapsed": false,
    "deletable": true,
    "editable": true
   },
   "outputs": [],
   "source": [
    "t = data[:]"
   ]
  },
  {
   "cell_type": "code",
   "execution_count": 66,
   "metadata": {
    "collapsed": false,
    "deletable": true,
    "editable": true
   },
   "outputs": [],
   "source": [
    "z = np.array(t)"
   ]
  },
  {
   "cell_type": "code",
   "execution_count": 70,
   "metadata": {
    "collapsed": false,
    "deletable": true,
    "editable": true
   },
   "outputs": [
    {
     "data": {
      "text/plain": [
       "(1, 73, 1000)"
      ]
     },
     "execution_count": 70,
     "metadata": {},
     "output_type": "execute_result"
    }
   ],
   "source": [
    "np.shape(z[0:1])"
   ]
  },
  {
   "cell_type": "code",
   "execution_count": 71,
   "metadata": {
    "collapsed": false
   },
   "outputs": [
    {
     "data": {
      "text/plain": [
       "2394"
      ]
     },
     "execution_count": 71,
     "metadata": {},
     "output_type": "execute_result"
    }
   ],
   "source": [
    "len(z)"
   ]
  },
  {
   "cell_type": "code",
   "execution_count": 73,
   "metadata": {
    "collapsed": false
   },
   "outputs": [
    {
     "data": {
      "text/plain": [
       "2394"
      ]
     },
     "execution_count": 73,
     "metadata": {},
     "output_type": "execute_result"
    }
   ],
   "source": [
    "np.shape(z)[0]"
   ]
  },
  {
   "cell_type": "code",
   "execution_count": 74,
   "metadata": {
    "collapsed": true
   },
   "outputs": [],
   "source": [
    "a= [1,2,3,4,5]\n"
   ]
  },
  {
   "cell_type": "code",
   "execution_count": 76,
   "metadata": {
    "collapsed": false
   },
   "outputs": [
    {
     "data": {
      "text/plain": [
       "[2]"
      ]
     },
     "execution_count": 76,
     "metadata": {},
     "output_type": "execute_result"
    }
   ],
   "source": [
    "a[1:2]"
   ]
  },
  {
   "cell_type": "code",
   "execution_count": null,
   "metadata": {
    "collapsed": true
   },
   "outputs": [],
   "source": []
  }
 ],
 "metadata": {
  "kernelspec": {
   "display_name": "tensorflow_r1.0",
   "language": "python",
   "name": "tensorflow_1.0_isolated"
  },
  "language_info": {
   "codemirror_mode": {
    "name": "ipython",
    "version": 2
   },
   "file_extension": ".py",
   "mimetype": "text/x-python",
   "name": "python",
   "nbconvert_exporter": "python",
   "pygments_lexer": "ipython2",
   "version": "2.7.12"
  }
 },
 "nbformat": 4,
 "nbformat_minor": 0
}
